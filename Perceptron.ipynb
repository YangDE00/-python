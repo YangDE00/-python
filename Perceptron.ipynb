{
 "cells": [
  {
   "cell_type": "code",
   "execution_count": 1,
   "metadata": {
    "collapsed": true
   },
   "outputs": [],
   "source": [
    "import numpy as np\n",
    "class Perceptron(object):\n",
    "    \"\"\"\"\n",
    "    eta :学习率\n",
    "    n_iter: 权重向量的训练次数\n",
    "    w_：神经分叉权重向量\n",
    "    errors_: 用于记录神经元出错次数\n",
    "    \"\"\"\n",
    "    def __init__(self, eta=0.01, n_iter=10):\n",
    "        self.eta=eta;\n",
    "        self.n_iter =n_iter\n",
    "        pass\n",
    "    \n",
    "    def net_input(self,X):\n",
    "        \"\"\"\n",
    "        z=w0*1+w1*x1+...+wn*xn\n",
    "        \"\"\"\n",
    "        return np.dot(X,self.w_[1:])+self.w_[0]\n",
    "        pass\n",
    "        \n",
    "    def predict(self,X):\n",
    "        return np.where(self.net_input(X)>=0.0,1,-1)\n",
    "        pass \n",
    "    \n",
    "    def fit(self,X,y):\n",
    "        \"\"\"\n",
    "        输入训练数据，培训神经元，X输入样本向量，y对应样本分类\n",
    "        X：shape[n_samples,n_features]\n",
    "        X:[[1,2,3],[4,5,6]]\n",
    "        n_samples:2\n",
    "        n_features:3\n",
    "        y:[1,-1]\n",
    "        \"\"\"\n",
    "        \"\"\"\n",
    "        初始化权重向量为0\n",
    "        加一是因为前面算法提到的w0,额也就是步调函数阈值\n",
    "        \"\"\"\n",
    "        self.w_=np.zeros(1+X.shape[1])\n",
    "        self.errors_=[]\n",
    "        \n",
    "        for _ in range(self.n_iter):\n",
    "            errors=0\n",
    "            \"\"\"\n",
    "            X:[[1,2,3],[4,5,6]]\n",
    "            y:[1,-1]\n",
    "            zip(X,y)=[[1,2,3,1],[4,5,6,-1]]\n",
    "            \"\"\"\n",
    "            for xi, target in zip (X,y):\n",
    "                \"\"\"\n",
    "                update=eta *(y-y')\n",
    "                \"\"\"\n",
    "                update=self.eta *(target-self.predict(xi))\n",
    "                \n",
    "                \"\"\"\n",
    "                xi是一个向量\n",
    "                update*xi 等价:\n",
    "                []...\n",
    "                \"\"\"\n",
    "                self.w_[1:]+=update*xi\n",
    "                self.w_[0]+=update\n",
    "                \n",
    "                errors+=int(update !=0.0)\n",
    "                self.errors_.append(errors)\n",
    "                pass\n",
    "            \n",
    "            pass\n",
    "        print('weight:',self.w_)\n",
    "        pass\n",
    "    pass\n",
    "    "
   ]
  },
  {
   "cell_type": "code",
   "execution_count": 2,
   "metadata": {},
   "outputs": [
    {
     "data": {
      "text/html": [
       "<div>\n",
       "<style>\n",
       "    .dataframe thead tr:only-child th {\n",
       "        text-align: right;\n",
       "    }\n",
       "\n",
       "    .dataframe thead th {\n",
       "        text-align: left;\n",
       "    }\n",
       "\n",
       "    .dataframe tbody tr th {\n",
       "        vertical-align: top;\n",
       "    }\n",
       "</style>\n",
       "<table border=\"1\" class=\"dataframe\">\n",
       "  <thead>\n",
       "    <tr style=\"text-align: right;\">\n",
       "      <th></th>\n",
       "      <th>0</th>\n",
       "      <th>1</th>\n",
       "      <th>2</th>\n",
       "      <th>3</th>\n",
       "      <th>4</th>\n",
       "    </tr>\n",
       "  </thead>\n",
       "  <tbody>\n",
       "    <tr>\n",
       "      <th>0</th>\n",
       "      <td>5.1</td>\n",
       "      <td>3.5</td>\n",
       "      <td>1.4</td>\n",
       "      <td>0.2</td>\n",
       "      <td>Iris-setosa</td>\n",
       "    </tr>\n",
       "    <tr>\n",
       "      <th>1</th>\n",
       "      <td>4.9</td>\n",
       "      <td>3.0</td>\n",
       "      <td>1.4</td>\n",
       "      <td>0.2</td>\n",
       "      <td>Iris-setosa</td>\n",
       "    </tr>\n",
       "    <tr>\n",
       "      <th>2</th>\n",
       "      <td>4.7</td>\n",
       "      <td>3.2</td>\n",
       "      <td>1.3</td>\n",
       "      <td>0.2</td>\n",
       "      <td>Iris-setosa</td>\n",
       "    </tr>\n",
       "    <tr>\n",
       "      <th>3</th>\n",
       "      <td>4.6</td>\n",
       "      <td>3.1</td>\n",
       "      <td>1.5</td>\n",
       "      <td>0.2</td>\n",
       "      <td>Iris-setosa</td>\n",
       "    </tr>\n",
       "    <tr>\n",
       "      <th>4</th>\n",
       "      <td>5.0</td>\n",
       "      <td>3.6</td>\n",
       "      <td>1.4</td>\n",
       "      <td>0.2</td>\n",
       "      <td>Iris-setosa</td>\n",
       "    </tr>\n",
       "    <tr>\n",
       "      <th>5</th>\n",
       "      <td>5.4</td>\n",
       "      <td>3.9</td>\n",
       "      <td>1.7</td>\n",
       "      <td>0.4</td>\n",
       "      <td>Iris-setosa</td>\n",
       "    </tr>\n",
       "    <tr>\n",
       "      <th>6</th>\n",
       "      <td>4.6</td>\n",
       "      <td>3.4</td>\n",
       "      <td>1.4</td>\n",
       "      <td>0.3</td>\n",
       "      <td>Iris-setosa</td>\n",
       "    </tr>\n",
       "    <tr>\n",
       "      <th>7</th>\n",
       "      <td>5.0</td>\n",
       "      <td>3.4</td>\n",
       "      <td>1.5</td>\n",
       "      <td>0.2</td>\n",
       "      <td>Iris-setosa</td>\n",
       "    </tr>\n",
       "    <tr>\n",
       "      <th>8</th>\n",
       "      <td>4.4</td>\n",
       "      <td>2.9</td>\n",
       "      <td>1.4</td>\n",
       "      <td>0.2</td>\n",
       "      <td>Iris-setosa</td>\n",
       "    </tr>\n",
       "    <tr>\n",
       "      <th>9</th>\n",
       "      <td>4.9</td>\n",
       "      <td>3.1</td>\n",
       "      <td>1.5</td>\n",
       "      <td>0.1</td>\n",
       "      <td>Iris-setosa</td>\n",
       "    </tr>\n",
       "  </tbody>\n",
       "</table>\n",
       "</div>"
      ],
      "text/plain": [
       "     0    1    2    3            4\n",
       "0  5.1  3.5  1.4  0.2  Iris-setosa\n",
       "1  4.9  3.0  1.4  0.2  Iris-setosa\n",
       "2  4.7  3.2  1.3  0.2  Iris-setosa\n",
       "3  4.6  3.1  1.5  0.2  Iris-setosa\n",
       "4  5.0  3.6  1.4  0.2  Iris-setosa\n",
       "5  5.4  3.9  1.7  0.4  Iris-setosa\n",
       "6  4.6  3.4  1.4  0.3  Iris-setosa\n",
       "7  5.0  3.4  1.5  0.2  Iris-setosa\n",
       "8  4.4  2.9  1.4  0.2  Iris-setosa\n",
       "9  4.9  3.1  1.5  0.1  Iris-setosa"
      ]
     },
     "execution_count": 2,
     "metadata": {},
     "output_type": "execute_result"
    }
   ],
   "source": [
    "file = 'https://archive.ics.uci.edu/ml/machine-learning-databases/iris/iris.data'\n",
    "import pandas as pd\n",
    "df= pd.read_csv(file, header=None)\n",
    "df.head(10)"
   ]
  },
  {
   "cell_type": "code",
   "execution_count": 3,
   "metadata": {},
   "outputs": [
    {
     "data": {
      "image/png": "[encoded data removed]",
      "text/plain": [
       "<matplotlib.figure.Figure at 0x824507fd30>"
      ]
     },
     "metadata": {},
     "output_type": "display_data"
    }
   ],
   "source": [
    "import matplotlib.pyplot as plt\n",
    "import numpy as np\n",
    "\n",
    "y=df.loc[0:100,4].values\n",
    "y=np.where(y=='Iris-setosa',-1,1)\n",
    "\n",
    "X=df.loc[0:100,[0,2]].values\n",
    "\n",
    "plt.scatter(X[:50,0],X[:50,1],color='red',marker='o',label='setosa')\n",
    "plt.scatter(X[50:100,0],X[50:100,1],color='blue',marker='x',label='versicolor')\n",
    "plt.xlabel('花瓣长度')\n",
    "plt.ylabel('花径长度')\n",
    "plt.legend(loc='upper left')\n",
    "plt.show()"
   ]
  },
  {
   "cell_type": "code",
   "execution_count": 4,
   "metadata": {},
   "outputs": [
    {
     "name": "stdout",
     "output_type": "stream",
     "text": [
      "weight: [-0.4  -0.68  1.82]\n"
     ]
    },
    {
     "data": {
      "image/png": "[encoded data removed]",
      "text/plain": [
       "<matplotlib.figure.Figure at 0x82431b3470>"
      ]
     },
     "metadata": {},
     "output_type": "display_data"
    }
   ],
   "source": [
    "ppn = Perceptron(eta=0.1, n_iter=10)\n",
    "ppn.fit(X,y)\n",
    "plt.plot(range(1,len(ppn.errors_)+1),ppn.errors_,marker='o')\n",
    "plt.xlabel('Epochs')\n",
    "plt.ylabel('number of errors')\n",
    "plt.show()"
   ]
  },
  {
   "cell_type": "code",
   "execution_count": 7,
   "metadata": {
    "collapsed": true
   },
   "outputs": [],
   "source": [
    "from matplotlib.colors import ListedColormap\n",
    "def plot_decision_regions(X,y,classifier,resolution=0.02):\n",
    "    marker=('s','x','o','v')\n",
    "    colors=('red','blue','lightgreen','gray','cyan')\n",
    "    cmap=ListedColormap(colors[:len(np.unique(y))])\n",
    "    \n",
    "    x1_min, x1_max=X[:,0].min()-1,X[:,0].max()\n",
    "    x2_min, x2_max=X[:,1].min()-1,X[:,1].max()\n",
    "    \n",
    "    xx1,xx2= np.meshgrid(np.arange(x1_min,x1_max,resolution),\n",
    "                        np.arange(x2_min,x2_max,resolution))\n",
    "\n",
    "    Z=classifier.predict(np.array([xx1.ravel(),xx2.ravel()]).T)\n",
    "    print(xx1.ravel())\n",
    "    print(xx2.ravel())\n",
    "    print(Z)\n",
    "    \n",
    "    \n",
    "    Z=Z.reshape(xx1.shape)\n",
    "    plt.contourf(xx1, xx2, Z, alpha=0.4, cmap=cmap)\n",
    "    plt.xlim(xx1.min(),xx1.max())\n",
    "    plt.ylim(xx2.min(),xx2.max())\n",
    "    \n",
    "    for idx, cl in enumerate(np.unique(y)):\n",
    "        plt.scatter(x=X[y==cl,0],y=X[y==cl,1],alpha=0.8,c=cmap(idx),\n",
    "                    marker=marker[idx],label=cl)\n",
    "                              \n",
    "\n",
    "        "
   ]
  },
  {
   "cell_type": "code",
   "execution_count": 8,
   "metadata": {},
   "outputs": [
    {
     "name": "stdout",
     "output_type": "stream",
     "text": [
      "[ 3.3   3.32  3.34 ...,  6.94  6.96  6.98]\n",
      "[ 0.    0.    0.   ...,  5.98  5.98  5.98]\n",
      "[-1 -1 -1 ...,  1  1  1]\n"
     ]
    },
    {
     "data": {
      "image/png": "[encoded data removed]",
      "text/plain": [
       "<matplotlib.figure.Figure at 0x8245c7a4e0>"
      ]
     },
     "metadata": {},
     "output_type": "display_data"
    }
   ],
   "source": [
    "plot_decision_regions(X,y,ppn,resolution=0.02)\n",
    "plt.xlabel('花径长度')\n",
    "plt.ylabel('花瓣长度')\n",
    "plt.legend(loc='upper left')\n",
    "plt.show()\n",
    "           "
   ]
  },
  {
   "cell_type": "code",
   "execution_count": 19,
   "metadata": {
    "collapsed": true
   },
   "outputs": [],
   "source": [
    "class AdalineGD(object):\n",
    "    \"\"\"\n",
    "    eta:float\n",
    "    学习效率，处于0和1之间\n",
    "    \n",
    "    n_iter:int\n",
    "    对训练数据进行学习改进次数\n",
    "    \n",
    "    w_: 一维向量\n",
    "    存储权重数值\n",
    "    \n",
    "    error_:\n",
    "    存储每次迭代改进时，网络对数据进行错误判断的次数\n",
    "    \"\"\"\n",
    "    \n",
    "    def __init__(self, eta=0.01, n_iter=50):\n",
    "        self.eta=eta\n",
    "        self.n_iter=n_iter\n",
    "    \n",
    "    def net_input(self,X):\n",
    "        return np.dot(X,self.w_[1:])+self.w_[0]\n",
    "    \n",
    "    def activation(self,X):\n",
    "        return self.net_input(X)\n",
    "    \n",
    "    def predict(self,X):\n",
    "        return np.where(self.activation(X)>=0,1,-1)\n",
    "    \n",
    "\n",
    "    def fit(self,X,y):\n",
    "        \"\"\"\n",
    "        X:二维数组[n_sample, n_features]\n",
    "        n_samples 表示X中含有训练数据条目数\n",
    "        n_features 含有4个数据的一维向量，用于表示一条训练条目\n",
    "        \n",
    "        y:一维向量\n",
    "        用于存储每一训练条目对应的正确分类\n",
    "        \"\"\"\n",
    "        \n",
    "        self.w_=np.zeros(1+X.shape[1])\n",
    "        self.cost_=[]  \n",
    "        \"\"\"成本向量， \n",
    "        可判断改进效果\n",
    "        \"\"\"\n",
    "        \n",
    "        for i in range(self.n_iter):\n",
    "            output= self.net_input(X)\n",
    "            errors =(y-output)\n",
    "            self.w_[1:]+=self.eta*X.T.dot(errors)\n",
    "            self.w_[0]+=self.eta*errors.sum()\n",
    "            cost=(errors**2).sum()/2.0\n",
    "            self.cost_.append(cost)\n",
    "        return self\n",
    "            "
   ]
  },
  {
   "cell_type": "code",
   "execution_count": 20,
   "metadata": {},
   "outputs": [
    {
     "name": "stdout",
     "output_type": "stream",
     "text": [
      "[ 3.3   3.32  3.34 ...,  6.94  6.96  6.98]\n",
      "[ 0.    0.    0.   ...,  5.98  5.98  5.98]\n",
      "[-1 -1 -1 ...,  1  1  1]\n"
     ]
    },
    {
     "data": {
      "image/png": "[encoded data removed]",
      "text/plain": [
       "<matplotlib.figure.Figure at 0x82474b7f98>"
      ]
     },
     "metadata": {},
     "output_type": "display_data"
    }
   ],
   "source": [
    "ada=AdalineGD(eta=0.0001,n_iter=50)\n",
    "ada.fit(X,y)\n",
    "plot_decision_regions(X,y,classifier=ada)\n",
    "plt.title('Adaline-Gradient_desent')\n",
    "plt.xlabel('花径长度')\n",
    "plt.ylabel('花瓣长度')\n",
    "plt.legend(loc='upper left')\n",
    "plt.show()"
   ]
  },
  {
   "cell_type": "code",
   "execution_count": 26,
   "metadata": {},
   "outputs": [
    {
     "data": {
      "image/png": "[encoded data removed]",
      "text/plain": [
       "<matplotlib.figure.Figure at 0x82475a6b00>"
      ]
     },
     "metadata": {},
     "output_type": "display_data"
    }
   ],
   "source": [
    "plt.plot(range(1,len(ada.cost_)+1),ada.cost_,marker='o',color='blue')\n",
    "plt.xlabel('Epochs')\n",
    "plt.ylabel('sum-squard-error')\n",
    "plt.show()"
   ]
  },
  {
   "cell_type": "code",
   "execution_count": null,
   "metadata": {
    "collapsed": true
   },
   "outputs": [],
   "source": []
  }
 ],
 "metadata": {
  "celltoolbar": "Slideshow",
  "kernelspec": {
   "display_name": "Python 3",
   "language": "python",
   "name": "python3"
  },
  "language_info": {
   "codemirror_mode": {
    "name": "ipython",
    "version": 3
   },
   "file_extension": ".py",
   "mimetype": "text/x-python",
   "name": "python",
   "nbconvert_exporter": "python",
   "pygments_lexer": "ipython3",
   "version": "3.6.3"
  }
 },
 "nbformat": 4,
 "nbformat_minor": 2
}
